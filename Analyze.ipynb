{
 "cells": [
  {
   "cell_type": "markdown",
   "id": "cb8d7db0-1037-4c54-bce6-cd28612ddaf4",
   "metadata": {},
   "source": [
    "# 自分のテトリスのリプレイデータを解析する\n",
    "DataCollector.ipynbで作成したテトリスのリプレイデータreplay.csvからデータ解析をしてみます\n",
    "- - -"
   ]
  },
  {
   "cell_type": "markdown",
   "id": "888a89c7-1e44-461f-9c1a-abaa7788629f",
   "metadata": {},
   "source": [
    "## ライブラリのインポート"
   ]
  },
  {
   "cell_type": "code",
   "execution_count": 3,
   "id": "cf772281-db36-41e3-a866-7b35411aae37",
   "metadata": {},
   "outputs": [],
   "source": [
    "import sys\n",
    "import numpy as np\n",
    "import pandas as pd\n",
    "from pandas.plotting import scatter_matrix\n",
    "import seaborn as sns\n",
    "import matplotlib.pyplot as plt\n",
    "from sklearn import preprocessing\n",
    "import statsmodels.api as sm\n",
    "import statsmodels.formula.api as smf\n",
    "import matplotlib.pyplot as plt\n",
    "from sklearn.cluster import KMeans\n",
    "from sklearn.preprocessing import StandardScaler\n",
    "from sklearn.svm import SVC, SVR\n",
    "from sklearn.preprocessing import MinMaxScaler\n",
    "from sklearn.model_selection import train_test_split\n",
    "from sklearn.metrics import accuracy_score\n",
    "from sklearn.tree import DecisionTreeClassifier, plot_tree\n",
    "from sklearn.metrics import mean_squared_error"
   ]
  },
  {
   "cell_type": "markdown",
   "id": "0dc7c076-9630-4047-a2bd-8bbd680eba31",
   "metadata": {},
   "source": [
    "## SCVの読み込み"
   ]
  },
  {
   "cell_type": "code",
   "execution_count": 4,
   "id": "8dfce5a5-94cb-472e-a549-cc9fb14d106e",
   "metadata": {},
   "outputs": [
    {
     "name": "stdout",
     "output_type": "stream",
     "text": [
      "(1567, 9)\n",
      "<class 'pandas.core.frame.DataFrame'>\n",
      "RangeIndex: 1567 entries, 0 to 1566\n",
      "Data columns (total 9 columns):\n",
      " #   Column    Non-Null Count  Dtype  \n",
      "---  ------    --------------  -----  \n",
      " 0   ID        1567 non-null   object \n",
      " 1   人数        1567 non-null   int64  \n",
      " 2   順位        1567 non-null   object \n",
      " 3   ゲームの時間    1567 non-null   object \n",
      " 4   送ったライン合計  1567 non-null   int64  \n",
      " 5   APM       1567 non-null   float64\n",
      " 6   日付        1567 non-null   object \n",
      " 7   (JST)     1567 non-null   object \n",
      " 8   リプレイ      1463 non-null   object \n",
      "dtypes: float64(1), int64(2), object(6)\n",
      "memory usage: 110.3+ KB\n"
     ]
    },
    {
     "data": {
      "text/html": [
       "<div>\n",
       "<style scoped>\n",
       "    .dataframe tbody tr th:only-of-type {\n",
       "        vertical-align: middle;\n",
       "    }\n",
       "\n",
       "    .dataframe tbody tr th {\n",
       "        vertical-align: top;\n",
       "    }\n",
       "\n",
       "    .dataframe thead th {\n",
       "        text-align: right;\n",
       "    }\n",
       "</style>\n",
       "<table border=\"1\" class=\"dataframe\">\n",
       "  <thead>\n",
       "    <tr style=\"text-align: right;\">\n",
       "      <th></th>\n",
       "      <th>ID</th>\n",
       "      <th>人数</th>\n",
       "      <th>順位</th>\n",
       "      <th>ゲームの時間</th>\n",
       "      <th>送ったライン合計</th>\n",
       "      <th>APM</th>\n",
       "      <th>日付</th>\n",
       "      <th>(JST)</th>\n",
       "      <th>リプレイ</th>\n",
       "    </tr>\n",
       "  </thead>\n",
       "  <tbody>\n",
       "    <tr>\n",
       "      <th>0</th>\n",
       "      <td>4RBY02</td>\n",
       "      <td>6</td>\n",
       "      <td>3/6</td>\n",
       "      <td>1:01.160</td>\n",
       "      <td>28</td>\n",
       "      <td>38.26</td>\n",
       "      <td>2021-07-07</td>\n",
       "      <td>00:06:17</td>\n",
       "      <td>NaN</td>\n",
       "    </tr>\n",
       "    <tr>\n",
       "      <th>1</th>\n",
       "      <td>1MGZ0S</td>\n",
       "      <td>6</td>\n",
       "      <td>5/6</td>\n",
       "      <td>1:01.850</td>\n",
       "      <td>28</td>\n",
       "      <td>37.83</td>\n",
       "      <td>2021-07-07</td>\n",
       "      <td>00:04:04</td>\n",
       "      <td>NaN</td>\n",
       "    </tr>\n",
       "    <tr>\n",
       "      <th>2</th>\n",
       "      <td>MN3IUP</td>\n",
       "      <td>5</td>\n",
       "      <td>4/5</td>\n",
       "      <td>1:24.290</td>\n",
       "      <td>31</td>\n",
       "      <td>45.56</td>\n",
       "      <td>2021-07-07</td>\n",
       "      <td>00:02:16</td>\n",
       "      <td>NaN</td>\n",
       "    </tr>\n",
       "    <tr>\n",
       "      <th>3</th>\n",
       "      <td>EP804Q</td>\n",
       "      <td>6</td>\n",
       "      <td>3/6</td>\n",
       "      <td>1:49.220</td>\n",
       "      <td>43</td>\n",
       "      <td>34.06</td>\n",
       "      <td>2021-07-06</td>\n",
       "      <td>23:59:33</td>\n",
       "      <td>NaN</td>\n",
       "    </tr>\n",
       "    <tr>\n",
       "      <th>4</th>\n",
       "      <td>6NCAAF</td>\n",
       "      <td>6</td>\n",
       "      <td>3/6</td>\n",
       "      <td>2:02.290</td>\n",
       "      <td>46</td>\n",
       "      <td>29.93</td>\n",
       "      <td>2021-07-06</td>\n",
       "      <td>23:56:57</td>\n",
       "      <td>NaN</td>\n",
       "    </tr>\n",
       "  </tbody>\n",
       "</table>\n",
       "</div>"
      ],
      "text/plain": [
       "       ID  人数   順位    ゲームの時間  送ったライン合計    APM          日付     (JST) リプレイ\n",
       "0  4RBY02   6  3/6  1:01.160        28  38.26  2021-07-07  00:06:17  NaN\n",
       "1  1MGZ0S   6  5/6  1:01.850        28  37.83  2021-07-07  00:04:04  NaN\n",
       "2  MN3IUP   5  4/5  1:24.290        31  45.56  2021-07-07  00:02:16  NaN\n",
       "3  EP804Q   6  3/6  1:49.220        43  34.06  2021-07-06  23:59:33  NaN\n",
       "4  6NCAAF   6  3/6  2:02.290        46  29.93  2021-07-06  23:56:57  NaN"
      ]
     },
     "execution_count": 4,
     "metadata": {},
     "output_type": "execute_result"
    }
   ],
   "source": [
    "df_replay = pd.read_csv('replay.csv', index_col = False)\n",
    "print(df_replay.shape)\n",
    "df_replay.info()\n",
    "df_replay.head()"
   ]
  },
  {
   "cell_type": "markdown",
   "id": "2e7e67c8-7896-4673-8610-7d8849799c34",
   "metadata": {},
   "source": [
    "## 必要の無いデータを削除する\n",
    "- 今回はロビー対戦のみ解析するのでルーム対戦(30人未満)の対戦リプレイデータは削除します。\n",
    "- また、ID列とリプレイ列は意味のない列なのでこれも削除します"
   ]
  },
  {
   "cell_type": "code",
   "execution_count": 5,
   "id": "f0c957e1-b796-453f-823d-e17a37842d70",
   "metadata": {},
   "outputs": [
    {
     "name": "stdout",
     "output_type": "stream",
     "text": [
      "(281, 7)\n"
     ]
    },
    {
     "data": {
      "text/html": [
       "<div>\n",
       "<style scoped>\n",
       "    .dataframe tbody tr th:only-of-type {\n",
       "        vertical-align: middle;\n",
       "    }\n",
       "\n",
       "    .dataframe tbody tr th {\n",
       "        vertical-align: top;\n",
       "    }\n",
       "\n",
       "    .dataframe thead th {\n",
       "        text-align: right;\n",
       "    }\n",
       "</style>\n",
       "<table border=\"1\" class=\"dataframe\">\n",
       "  <thead>\n",
       "    <tr style=\"text-align: right;\">\n",
       "      <th></th>\n",
       "      <th>人数</th>\n",
       "      <th>順位</th>\n",
       "      <th>ゲームの時間</th>\n",
       "      <th>送ったライン合計</th>\n",
       "      <th>APM</th>\n",
       "      <th>日付</th>\n",
       "      <th>(JST)</th>\n",
       "    </tr>\n",
       "  </thead>\n",
       "  <tbody>\n",
       "    <tr>\n",
       "      <th>26</th>\n",
       "      <td>40</td>\n",
       "      <td>1/40</td>\n",
       "      <td>2:58.790</td>\n",
       "      <td>120</td>\n",
       "      <td>44.30</td>\n",
       "      <td>2021-07-03</td>\n",
       "      <td>22:42:04</td>\n",
       "    </tr>\n",
       "    <tr>\n",
       "      <th>27</th>\n",
       "      <td>42</td>\n",
       "      <td>10/42</td>\n",
       "      <td>2:21.900</td>\n",
       "      <td>91</td>\n",
       "      <td>43.97</td>\n",
       "      <td>2021-07-03</td>\n",
       "      <td>22:38:56</td>\n",
       "    </tr>\n",
       "    <tr>\n",
       "      <th>28</th>\n",
       "      <td>37</td>\n",
       "      <td>4/37</td>\n",
       "      <td>2:42</td>\n",
       "      <td>113</td>\n",
       "      <td>50.37</td>\n",
       "      <td>2021-07-03</td>\n",
       "      <td>22:35:51</td>\n",
       "    </tr>\n",
       "    <tr>\n",
       "      <th>29</th>\n",
       "      <td>41</td>\n",
       "      <td>4/41</td>\n",
       "      <td>2:46.660</td>\n",
       "      <td>92</td>\n",
       "      <td>38.88</td>\n",
       "      <td>2021-07-03</td>\n",
       "      <td>22:32:47</td>\n",
       "    </tr>\n",
       "    <tr>\n",
       "      <th>94</th>\n",
       "      <td>40</td>\n",
       "      <td>24/40</td>\n",
       "      <td>1:08.590</td>\n",
       "      <td>36</td>\n",
       "      <td>38.49</td>\n",
       "      <td>2021-06-24</td>\n",
       "      <td>21:47:21</td>\n",
       "    </tr>\n",
       "  </tbody>\n",
       "</table>\n",
       "</div>"
      ],
      "text/plain": [
       "    人数     順位    ゲームの時間  送ったライン合計    APM          日付     (JST)\n",
       "26  40   1/40  2:58.790       120  44.30  2021-07-03  22:42:04\n",
       "27  42  10/42  2:21.900        91  43.97  2021-07-03  22:38:56\n",
       "28  37   4/37      2:42       113  50.37  2021-07-03  22:35:51\n",
       "29  41   4/41  2:46.660        92  38.88  2021-07-03  22:32:47\n",
       "94  40  24/40  1:08.590        36  38.49  2021-06-24  21:47:21"
      ]
     },
     "metadata": {},
     "output_type": "display_data"
    }
   ],
   "source": [
    "df = df_replay.loc[df_replay[\"人数\"] > 29, \"人数\":\"(JST)\"]\n",
    "print(df.shape)\n",
    "display(df.head())"
   ]
  },
  {
   "cell_type": "markdown",
   "id": "27a8f06c-e035-4b89-8732-35740da75567",
   "metadata": {},
   "source": [
    "# 列データを編集するための関数を定義\n",
    "- position_to_rank_in関数：順位が10位以上だったらTrue、それ以下ならFalseを返します\n",
    "- position_to_teto_one(s)：順位が1だったらTrue、それ以下ならFalseを返します\n",
    "- position_to_ratio(s)：自分の順位を割合で示します。0.0に近いほど下位、1.0に近いほど上位です。\n",
    "- gametime_to_second(s)：ゲームプレイ時間を秒単位に変換します\n",
    "- date_to_experience(s)：Jstrisを初めてからの経過日数を秒単位に変換します\n",
    "- JST_to_second(s)：ゲームプレイ時間を秒単位に変換します"
   ]
  },
  {
   "cell_type": "code",
   "execution_count": 6,
   "id": "aa90100b-7b5c-4491-8ed4-ff8a29c3015f",
   "metadata": {},
   "outputs": [],
   "source": [
    "def position_to_rank_in(s) :\n",
    "    position, players = map(int, s.split('/'))\n",
    "    return position <= 10\n",
    "\n",
    "\n",
    "def position_to_teto_one(s) :\n",
    "    position, players = map(int, s.split('/'))\n",
    "    return position == 1\n",
    "\n",
    "\n",
    "def position_to_ratio(s) :\n",
    "    position, players = map(int, s.split('/'))\n",
    "    return 1 - (position/players)\n",
    "\n",
    "\n",
    "def gametime_to_second(s) :\n",
    "    if s.count('.') :\n",
    "        lst = s.split('.')\n",
    "        s = lst[0]\n",
    "        comma = int(lst[1])\n",
    "        if comma < 100 :\n",
    "            comma *= 10\n",
    "    else :\n",
    "        comma = 0\n",
    "            \n",
    "    if s.count(':') :\n",
    "        lst = s.split(':')\n",
    "        minute = int(lst[0])\n",
    "        sec = int(lst[1])\n",
    "    else :\n",
    "        minute = 0\n",
    "        sec = int(s)\n",
    "        \n",
    "    value = minute * 60 + sec + (comma / 1000)\n",
    "    return value\n",
    "\n",
    "\n",
    "def date_to_experience(s) :\n",
    "    play_date = pd.to_datetime(s)\n",
    "    first_play = pd.to_datetime(\"2019-10-11\")\n",
    "    return (play_date - first_play).total_seconds()\n",
    "\n",
    "\n",
    "def JST_to_second(s) :\n",
    "    hour, minute, sec = map(int, s.split(':'))\n",
    "    return hour * 3600 + minute * 60 + sec"
   ]
  },
  {
   "cell_type": "markdown",
   "id": "da4ffcad-506d-43c8-b3c2-cdf3c175d777",
   "metadata": {},
   "source": [
    "# 行の編集"
   ]
  },
  {
   "cell_type": "code",
   "execution_count": 7,
   "id": "40c7d713-90d0-4d69-a22b-3e2b79e5ae36",
   "metadata": {},
   "outputs": [
    {
     "name": "stdout",
     "output_type": "stream",
     "text": [
      "(281, 8)\n"
     ]
    },
    {
     "data": {
      "text/html": [
       "<div>\n",
       "<style scoped>\n",
       "    .dataframe tbody tr th:only-of-type {\n",
       "        vertical-align: middle;\n",
       "    }\n",
       "\n",
       "    .dataframe tbody tr th {\n",
       "        vertical-align: top;\n",
       "    }\n",
       "\n",
       "    .dataframe thead th {\n",
       "        text-align: right;\n",
       "    }\n",
       "</style>\n",
       "<table border=\"1\" class=\"dataframe\">\n",
       "  <thead>\n",
       "    <tr style=\"text-align: right;\">\n",
       "      <th></th>\n",
       "      <th>Player</th>\n",
       "      <th>Position</th>\n",
       "      <th>GameTime</th>\n",
       "      <th>Lines</th>\n",
       "      <th>APM</th>\n",
       "      <th>RankIN</th>\n",
       "      <th>TETO-1</th>\n",
       "      <th>ElapsedTime</th>\n",
       "    </tr>\n",
       "  </thead>\n",
       "  <tbody>\n",
       "    <tr>\n",
       "      <th>26</th>\n",
       "      <td>40</td>\n",
       "      <td>0.975000</td>\n",
       "      <td>178.79</td>\n",
       "      <td>120</td>\n",
       "      <td>44.30</td>\n",
       "      <td>True</td>\n",
       "      <td>True</td>\n",
       "      <td>54600124.0</td>\n",
       "    </tr>\n",
       "    <tr>\n",
       "      <th>27</th>\n",
       "      <td>42</td>\n",
       "      <td>0.761905</td>\n",
       "      <td>141.90</td>\n",
       "      <td>91</td>\n",
       "      <td>43.97</td>\n",
       "      <td>True</td>\n",
       "      <td>False</td>\n",
       "      <td>54599936.0</td>\n",
       "    </tr>\n",
       "    <tr>\n",
       "      <th>28</th>\n",
       "      <td>37</td>\n",
       "      <td>0.891892</td>\n",
       "      <td>162.00</td>\n",
       "      <td>113</td>\n",
       "      <td>50.37</td>\n",
       "      <td>True</td>\n",
       "      <td>False</td>\n",
       "      <td>54599751.0</td>\n",
       "    </tr>\n",
       "    <tr>\n",
       "      <th>29</th>\n",
       "      <td>41</td>\n",
       "      <td>0.902439</td>\n",
       "      <td>166.66</td>\n",
       "      <td>92</td>\n",
       "      <td>38.88</td>\n",
       "      <td>True</td>\n",
       "      <td>False</td>\n",
       "      <td>54599567.0</td>\n",
       "    </tr>\n",
       "    <tr>\n",
       "      <th>94</th>\n",
       "      <td>40</td>\n",
       "      <td>0.400000</td>\n",
       "      <td>68.59</td>\n",
       "      <td>36</td>\n",
       "      <td>38.49</td>\n",
       "      <td>False</td>\n",
       "      <td>False</td>\n",
       "      <td>53819241.0</td>\n",
       "    </tr>\n",
       "  </tbody>\n",
       "</table>\n",
       "</div>"
      ],
      "text/plain": [
       "    Player  Position  GameTime  Lines    APM  RankIN  TETO-1  ElapsedTime\n",
       "26      40  0.975000    178.79    120  44.30    True    True   54600124.0\n",
       "27      42  0.761905    141.90     91  43.97    True   False   54599936.0\n",
       "28      37  0.891892    162.00    113  50.37    True   False   54599751.0\n",
       "29      41  0.902439    166.66     92  38.88    True   False   54599567.0\n",
       "94      40  0.400000     68.59     36  38.49   False   False   53819241.0"
      ]
     },
     "metadata": {},
     "output_type": "display_data"
    }
   ],
   "source": [
    "df[\"RankIN\"] = df['順位'].map(position_to_rank_in)\n",
    "df[\"TETO-1\"] = df['順位'].map(position_to_teto_one)\n",
    "df[\"順位\"] = df[\"順位\"].map(position_to_ratio)\n",
    "df[\"ゲームの時間\"] = df[\"ゲームの時間\"].map(gametime_to_second)\n",
    "df[\"日付\"] = df[\"日付\"].map(date_to_experience)\n",
    "df[\"(JST)\"] = df[\"(JST)\"].map(JST_to_second)\n",
    "df[\"ElapsedTime\"] = df[\"日付\"] + df[\"(JST)\"]\n",
    "df = df.drop(columns=['日付', '(JST)'])\n",
    "df = df.rename(columns= {\"人数\":\"Player\", \"順位\":\"Position\", \"ゲームの時間\":\"GameTime\", \"送ったライン合計\":\"Lines\"})\n",
    "\n",
    "print(df.shape)\n",
    "display(df.head())"
   ]
  },
  {
   "cell_type": "markdown",
   "id": "3d67a88f-d13a-4296-8165-c6c17634d494",
   "metadata": {},
   "source": [
    "- - -\n",
    "# 解析1　APMと送ったライン合計の最大値の行を取得"
   ]
  },
  {
   "cell_type": "code",
   "execution_count": 8,
   "id": "54d4b39c-b44b-4ddc-8963-97183f0154ef",
   "metadata": {},
   "outputs": [
    {
     "name": "stdout",
     "output_type": "stream",
     "text": [
      "APMの最大値の行：\n",
      " ID              VEQ4HX\n",
      "人数                  36\n",
      "順位               25/36\n",
      "ゲームの時間           46.25\n",
      "送ったライン合計            46\n",
      "APM              68.76\n",
      "日付          2021-04-29\n",
      "(JST)         17:01:26\n",
      "リプレイ               ---\n",
      "Name: 719, dtype: object\n",
      "\n",
      "\n",
      "ライン合計の最大値の行：\n",
      " ID              MOAN00\n",
      "人数                  46\n",
      "順位                1/46\n",
      "ゲームの時間        2:59.810\n",
      "送ったライン合計           153\n",
      "APM              54.72\n",
      "日付          2021-04-18\n",
      "(JST)         02:30:30\n",
      "リプレイ               ---\n",
      "Name: 835, dtype: object\n"
     ]
    }
   ],
   "source": [
    "print(\"APMの最大値の行：\\n\", df.loc[df['APM'].idxmax()])\n",
    "print(\"\\n\\nライン合計の最大値の行：\\n\", df.loc[df['Lines'].idxmax()])"
   ]
  },
  {
   "cell_type": "markdown",
   "id": "54bc33fc-4e20-4b2a-aebf-fff54479e2a8",
   "metadata": {},
   "source": [
    "- - -\n",
    "# 解析2　今までのプレイ回数、及びランクインとテトワンの回数と割合の算出"
   ]
  },
  {
   "cell_type": "code",
   "execution_count": 9,
   "id": "f198c47d-e77a-4890-820a-10f4073c531d",
   "metadata": {},
   "outputs": [
    {
     "name": "stdout",
     "output_type": "stream",
     "text": [
      "今までのプレイ回数： 281\n",
      "今までのランクインの回数： 201 \t割合： 0.715\n",
      "今までのテトワンの回数： 54 \t割合： 0.192\n"
     ]
    }
   ],
   "source": [
    "counts = len(df)\n",
    "rankin = sum(df[\"RankIN\"])\n",
    "tetoone = sum(df[\"TETO-1\"])\n",
    "print(\"今までのプレイ回数：\", counts)\n",
    "print(\"今までのランクインの回数：\", rankin, \"\\t割合：\", round(rankin/counts, 3))\n",
    "print(\"今までのテトワンの回数：\", tetoone, \"\\t割合：\", round(tetoone/counts, 3))"
   ]
  },
  {
   "cell_type": "markdown",
   "id": "1cf4daf7-9c07-4272-aaa8-25ee2b569ac6",
   "metadata": {},
   "source": [
    "- - -\n",
    "# 解析3　成長度合いの可視化と数値化\n",
    "APMを縦軸、Dateを横軸に取り、グラフにして解析をしてみます"
   ]
  },
  {
   "cell_type": "code",
   "execution_count": 10,
   "id": "f78ac593-2a4b-4647-9eaa-f5285817e3ed",
   "metadata": {},
   "outputs": [
    {
     "data": {
      "image/png": "[encoded data removed]",
      "text/plain": [
       "<Figure size 432x288 with 1 Axes>"
      ]
     },
     "metadata": {
      "needs_background": "light"
     },
     "output_type": "display_data"
    },
    {
     "name": "stdout",
     "output_type": "stream",
     "text": [
      "                            OLS Regression Results                            \n",
      "==============================================================================\n",
      "Dep. Variable:                    APM   R-squared:                       0.008\n",
      "Model:                            OLS   Adj. R-squared:                  0.004\n",
      "Method:                 Least Squares   F-statistic:                     2.227\n",
      "Date:                Wed, 04 Aug 2021   Prob (F-statistic):              0.137\n",
      "Time:                        15:04:08   Log-Likelihood:                -1095.0\n",
      "No. Observations:                 281   AIC:                             2194.\n",
      "Df Residuals:                     279   BIC:                             2201.\n",
      "Df Model:                           1                                         \n",
      "Covariance Type:            nonrobust                                         \n",
      "===============================================================================\n",
      "                  coef    std err          t      P>|t|      [0.025      0.975]\n",
      "-------------------------------------------------------------------------------\n",
      "const          40.1371      3.954     10.152      0.000      32.355      47.920\n",
      "ElapsedTime -1.275e-07   8.54e-08     -1.492      0.137   -2.96e-07    4.07e-08\n",
      "==============================================================================\n",
      "Omnibus:                       69.848   Durbin-Watson:                   0.997\n",
      "Prob(Omnibus):                  0.000   Jarque-Bera (JB):              137.750\n",
      "Skew:                          -1.276   Prob(JB):                     1.22e-30\n",
      "Kurtosis:                       5.291   Cond. No.                     2.57e+08\n",
      "==============================================================================\n",
      "\n",
      "Notes:\n",
      "[1] Standard Errors assume that the covariance matrix of the errors is correctly specified.\n",
      "[2] The condition number is large, 2.57e+08. This might indicate that there are\n",
      "strong multicollinearity or other numerical problems.\n"
     ]
    }
   ],
   "source": [
    "X = df['ElapsedTime']\n",
    "y = df['APM']\n",
    "plt.scatter(X, y)\n",
    "plt.show()\n",
    "X = sm.add_constant(X)\n",
    "model = sm.OLS(y, X)\n",
    "results = model.fit()\n",
    "print(results.summary())"
   ]
  },
  {
   "cell_type": "markdown",
   "id": "afdce2ec-a8af-462c-af10-8c9d72571cc3",
   "metadata": {},
   "source": [
    "## 考察\n",
    "#### グラフより、全く成長していないことが分かりました。また、回帰分析を行ってみるところ、coef - Dataの値より、マイナス成長していることが分かりました。"
   ]
  },
  {
   "cell_type": "markdown",
   "id": "dc99d0d8-4c08-448d-8b6e-7c6c43741ff5",
   "metadata": {},
   "source": [
    "- - -\n",
    "# 解析4　多変数な線形重回帰分析\n",
    "Positionを目的変数、Player, GameTime, Lines, APM, Timeを説明変数として、線形重回帰分析を行います。"
   ]
  },
  {
   "cell_type": "code",
   "execution_count": 11,
   "id": "fcfedc67-cbad-4db2-afc1-80bad7d0cf7c",
   "metadata": {},
   "outputs": [],
   "source": [
    "my_libs_dir = '../'\n",
    "if not my_libs_dir in sys.path:\n",
    "    sys.path.append(my_libs_dir)  # add the path to my_lib directory \n",
    "\n",
    "# The following lines are needed to auto-reload my library file\n",
    "# Without these lines, my library file is read only once and\n",
    "# modifications of my library file are not reflected.\n",
    "%load_ext autoreload\n",
    "%autoreload 1\n",
    "%aimport my_libs.linear_reg\n",
    "# import from my library file\n",
    "from my_libs.linear_reg import step_aic_forward, calc_vifs"
   ]
  },
  {
   "cell_type": "code",
   "execution_count": 12,
   "id": "f245937b-420d-486c-870b-09cb9c6aac8f",
   "metadata": {},
   "outputs": [],
   "source": [
    "%config InlineBackend.figure_formats = {'png', 'retina'} #high-reso images\n",
    "plt.rcParams['font.family'] = 'Yu Mincho' # for Japanese in graph (Win10)\n",
    "\n",
    "# To show all rows and columns in the results \n",
    "pd.options.display.max_rows = 999\n",
    "pd.options.display.max_columns = 999"
   ]
  },
  {
   "cell_type": "code",
   "execution_count": 13,
   "id": "d314f8d7-985d-4812-b2ed-59fd87803988",
   "metadata": {},
   "outputs": [
    {
     "name": "stdout",
     "output_type": "stream",
     "text": [
      "X_all_org: (281, 5)\n"
     ]
    },
    {
     "data": {
      "text/html": [
       "<div>\n",
       "<style scoped>\n",
       "    .dataframe tbody tr th:only-of-type {\n",
       "        vertical-align: middle;\n",
       "    }\n",
       "\n",
       "    .dataframe tbody tr th {\n",
       "        vertical-align: top;\n",
       "    }\n",
       "\n",
       "    .dataframe thead th {\n",
       "        text-align: right;\n",
       "    }\n",
       "</style>\n",
       "<table border=\"1\" class=\"dataframe\">\n",
       "  <thead>\n",
       "    <tr style=\"text-align: right;\">\n",
       "      <th></th>\n",
       "      <th>Player</th>\n",
       "      <th>GameTime</th>\n",
       "      <th>Lines</th>\n",
       "      <th>APM</th>\n",
       "      <th>ElapsedTime</th>\n",
       "    </tr>\n",
       "  </thead>\n",
       "  <tbody>\n",
       "    <tr>\n",
       "      <th>26</th>\n",
       "      <td>40</td>\n",
       "      <td>178.79</td>\n",
       "      <td>120</td>\n",
       "      <td>44.30</td>\n",
       "      <td>54600124.0</td>\n",
       "    </tr>\n",
       "    <tr>\n",
       "      <th>27</th>\n",
       "      <td>42</td>\n",
       "      <td>141.90</td>\n",
       "      <td>91</td>\n",
       "      <td>43.97</td>\n",
       "      <td>54599936.0</td>\n",
       "    </tr>\n",
       "    <tr>\n",
       "      <th>28</th>\n",
       "      <td>37</td>\n",
       "      <td>162.00</td>\n",
       "      <td>113</td>\n",
       "      <td>50.37</td>\n",
       "      <td>54599751.0</td>\n",
       "    </tr>\n",
       "    <tr>\n",
       "      <th>29</th>\n",
       "      <td>41</td>\n",
       "      <td>166.66</td>\n",
       "      <td>92</td>\n",
       "      <td>38.88</td>\n",
       "      <td>54599567.0</td>\n",
       "    </tr>\n",
       "    <tr>\n",
       "      <th>94</th>\n",
       "      <td>40</td>\n",
       "      <td>68.59</td>\n",
       "      <td>36</td>\n",
       "      <td>38.49</td>\n",
       "      <td>53819241.0</td>\n",
       "    </tr>\n",
       "  </tbody>\n",
       "</table>\n",
       "</div>"
      ],
      "text/plain": [
       "    Player  GameTime  Lines    APM  ElapsedTime\n",
       "26      40    178.79    120  44.30   54600124.0\n",
       "27      42    141.90     91  43.97   54599936.0\n",
       "28      37    162.00    113  50.37   54599751.0\n",
       "29      41    166.66     92  38.88   54599567.0\n",
       "94      40     68.59     36  38.49   53819241.0"
      ]
     },
     "metadata": {},
     "output_type": "display_data"
    },
    {
     "name": "stdout",
     "output_type": "stream",
     "text": [
      "y: (281,)\n",
      "26    0.975000\n",
      "27    0.761905\n",
      "28    0.891892\n",
      "29    0.902439\n",
      "94    0.400000\n",
      "Name: Position, dtype: float64\n"
     ]
    }
   ],
   "source": [
    "X_all = df.loc[:, [\"Player\", \"GameTime\", \"Lines\", \"APM\", \"ElapsedTime\"]]  # 説明変数\n",
    "y = df['Position']  # objective variable\n",
    "print('X_all_org:', X_all.shape)\n",
    "display(X_all.head())\n",
    "print('y:', y.shape)\n",
    "print(y.head())"
   ]
  },
  {
   "cell_type": "code",
   "execution_count": 14,
   "id": "eb540bff-79ae-4b9a-97f9-23d7ffcfc206",
   "metadata": {},
   "outputs": [
    {
     "name": "stdout",
     "output_type": "stream",
     "text": [
      "                            OLS Regression Results                            \n",
      "==============================================================================\n",
      "Dep. Variable:               Position   R-squared:                       0.913\n",
      "Model:                            OLS   Adj. R-squared:                  0.911\n",
      "Method:                 Least Squares   F-statistic:                     573.9\n",
      "Date:                Wed, 04 Aug 2021   Prob (F-statistic):          3.39e-143\n",
      "Time:                        15:04:08   Log-Likelihood:                 368.70\n",
      "No. Observations:                 281   AIC:                            -725.4\n",
      "Df Residuals:                     275   BIC:                            -703.6\n",
      "Df Model:                           5                                         \n",
      "Covariance Type:            nonrobust                                         \n",
      "===============================================================================\n",
      "                  coef    std err          t      P>|t|      [0.025      0.975]\n",
      "-------------------------------------------------------------------------------\n",
      "const          -0.0886      0.061     -1.443      0.150      -0.209       0.032\n",
      "Player          0.0008      0.001      0.680      0.497      -0.002       0.003\n",
      "GameTime        0.0050      0.000     26.598      0.000       0.005       0.005\n",
      "Lines        1.126e-05      0.000      0.029      0.977      -0.001       0.001\n",
      "APM             0.0015      0.001      1.967      0.050   -1.02e-06       0.003\n",
      "ElapsedTime  7.876e-10   4.89e-10      1.611      0.108   -1.75e-10    1.75e-09\n",
      "==============================================================================\n",
      "Omnibus:                       34.072   Durbin-Watson:                   2.048\n",
      "Prob(Omnibus):                  0.000   Jarque-Bera (JB):               56.117\n",
      "Skew:                          -0.714   Prob(JB):                     6.52e-13\n",
      "Kurtosis:                       4.660   Cond. No.                     7.23e+08\n",
      "==============================================================================\n",
      "\n",
      "Notes:\n",
      "[1] Standard Errors assume that the covariance matrix of the errors is correctly specified.\n",
      "[2] The condition number is large, 7.23e+08. This might indicate that there are\n",
      "strong multicollinearity or other numerical problems.\n"
     ]
    }
   ],
   "source": [
    "X_all_c = sm.add_constant(X_all)\n",
    "model = sm.OLS(y, X_all_c)\n",
    "results = model.fit()\n",
    "print(results.summary())"
   ]
  },
  {
   "cell_type": "code",
   "execution_count": 15,
   "id": "e8745aa3-0621-4da0-adda-3971cee84692",
   "metadata": {},
   "outputs": [
    {
     "name": "stdout",
     "output_type": "stream",
     "text": [
      "R2: 0.9125390882078013\n",
      "Adj R2: 0.9109488898115795\n"
     ]
    }
   ],
   "source": [
    "print('R2:', results.rsquared)\n",
    "print('Adj R2:', results.rsquared_adj)"
   ]
  },
  {
   "cell_type": "code",
   "execution_count": 16,
   "id": "2991625e-2d17-4d5b-ad1d-9cf39ea9aac3",
   "metadata": {},
   "outputs": [
    {
     "name": "stdout",
     "output_type": "stream",
     "text": [
      "p-values (F-statistic) 3.3881649836237436e-143\n"
     ]
    }
   ],
   "source": [
    "print('p-values (F-statistic)', results.f_pvalue)"
   ]
  },
  {
   "cell_type": "code",
   "execution_count": 17,
   "id": "3fac9e42-01e1-475f-9468-a79dd919cbe2",
   "metadata": {},
   "outputs": [
    {
     "name": "stdout",
     "output_type": "stream",
     "text": [
      "                                 OLS Regression Results                                \n",
      "=======================================================================================\n",
      "Dep. Variable:                      y   R-squared (uncentered):                   0.913\n",
      "Model:                            OLS   Adj. R-squared (uncentered):              0.911\n",
      "Method:                 Least Squares   F-statistic:                              575.9\n",
      "Date:                Wed, 04 Aug 2021   Prob (F-statistic):                   1.01e-143\n",
      "Time:                        15:04:08   Log-Likelihood:                         -56.385\n",
      "No. Observations:                 281   AIC:                                      122.8\n",
      "Df Residuals:                     276   BIC:                                      141.0\n",
      "Df Model:                           5                                                  \n",
      "Covariance Type:            nonrobust                                                  \n",
      "==============================================================================\n",
      "                 coef    std err          t      P>|t|      [0.025      0.975]\n",
      "------------------------------------------------------------------------------\n",
      "x1             0.0124      0.018      0.681      0.497      -0.023       0.048\n",
      "x2             0.9049      0.034     26.646      0.000       0.838       0.972\n",
      "x3             0.0016      0.055      0.029      0.977      -0.107       0.110\n",
      "x4             0.0792      0.040      1.971      0.050    8.94e-05       0.158\n",
      "x5             0.0299      0.019      1.614      0.108      -0.007       0.066\n",
      "==============================================================================\n",
      "Omnibus:                       34.072   Durbin-Watson:                   2.048\n",
      "Prob(Omnibus):                  0.000   Jarque-Bera (JB):               56.117\n",
      "Skew:                          -0.714   Prob(JB):                     6.52e-13\n",
      "Kurtosis:                       4.660   Cond. No.                         6.26\n",
      "==============================================================================\n",
      "\n",
      "Notes:\n",
      "[1] R² is computed without centering (uncentered) since the model does not contain a constant.\n",
      "[2] Standard Errors assume that the covariance matrix of the errors is correctly specified.\n"
     ]
    }
   ],
   "source": [
    "# NOTE: after scaling, X_scaled and Y_scaled are ndarray, not DataFrame.\n",
    "X_scaled = preprocessing.scale(X_all)\n",
    "y_scaled = preprocessing.scale(y)\n",
    "model = sm.OLS(y_scaled, X_scaled)\n",
    "results = model.fit()\n",
    "print(results.summary())"
   ]
  },
  {
   "cell_type": "code",
   "execution_count": 18,
   "id": "6ed753c1-1301-4aed-a016-22102efa6853",
   "metadata": {},
   "outputs": [],
   "source": [
    "# NOTE: make DataFrames corresponding to X_scaled and y_scaled.\n",
    "dfX_scaled = pd.DataFrame(X_scaled, columns=X_all.columns)\n",
    "dfy_scaled = pd.Series(y_scaled, name=y.name)\n",
    "exog = list(dfX_scaled.columns)  # Initial set = all explanatory variables\n",
    "endog = [dfy_scaled.name]  # Objective variables\n",
    "df_scaled = pd.concat([dfX_scaled, dfy_scaled], axis=1)"
   ]
  },
  {
   "cell_type": "code",
   "execution_count": 19,
   "id": "3284d213-74ae-41be-a0d3-8d77cb007a28",
   "metadata": {},
   "outputs": [
    {
     "name": "stdout",
     "output_type": "stream",
     "text": [
      "AIC: 799.443, formula: Position ~ 1\n",
      "AIC: 801.357, formula: Position ~ Player\n",
      "AIC: 494.467, formula: Position ~ Lines\n",
      "AIC: 130.970, formula: Position ~ GameTime\n",
      "AIC: 799.981, formula: Position ~ ElapsedTime\n",
      "AIC: 648.836, formula: Position ~ APM\n",
      "AIC: 132.961, formula: Position ~ GameTime + Player\n",
      "AIC: 124.325, formula: Position ~ GameTime + Lines\n",
      "AIC: 130.884, formula: Position ~ GameTime + ElapsedTime\n",
      "AIC: 121.748, formula: Position ~ GameTime + APM\n",
      "AIC: 123.547, formula: Position ~ GameTime + APM + Player\n",
      "AIC: 123.589, formula: Position ~ GameTime + APM + Lines\n",
      "AIC: 121.250, formula: Position ~ GameTime + APM + ElapsedTime\n",
      "AIC: 122.770, formula: Position ~ GameTime + APM + ElapsedTime + Player\n",
      "AIC: 123.241, formula: Position ~ GameTime + APM + ElapsedTime + Lines\n",
      "The best formula: Position ~ GameTime + APM + ElapsedTime\n",
      "Minimum AIC: 121.250\n"
     ]
    }
   ],
   "source": [
    "results_aic=step_aic_forward(smf.ols, exog, endog, data=df_scaled)"
   ]
  },
  {
   "cell_type": "code",
   "execution_count": 20,
   "id": "adf34157-6153-4d53-9669-249a0f00934a",
   "metadata": {},
   "outputs": [
    {
     "name": "stdout",
     "output_type": "stream",
     "text": [
      "121.24962376828023\n",
      "['Intercept', 'GameTime', 'APM', 'ElapsedTime']\n",
      "Position\n"
     ]
    }
   ],
   "source": [
    "print(results_aic.aic)\n",
    "print(results_aic.model.exog_names)\n",
    "print(results_aic.model.endog_names)"
   ]
  },
  {
   "cell_type": "code",
   "execution_count": 21,
   "id": "f3a40d07-d767-487d-8d67-884353a4e48e",
   "metadata": {},
   "outputs": [
    {
     "name": "stdout",
     "output_type": "stream",
     "text": [
      "['GameTime', 'APM', 'ElapsedTime']\n"
     ]
    },
    {
     "data": {
      "text/html": [
       "<div>\n",
       "<style scoped>\n",
       "    .dataframe tbody tr th:only-of-type {\n",
       "        vertical-align: middle;\n",
       "    }\n",
       "\n",
       "    .dataframe tbody tr th {\n",
       "        vertical-align: top;\n",
       "    }\n",
       "\n",
       "    .dataframe thead th {\n",
       "        text-align: right;\n",
       "    }\n",
       "</style>\n",
       "<table border=\"1\" class=\"dataframe\">\n",
       "  <thead>\n",
       "    <tr style=\"text-align: right;\">\n",
       "      <th></th>\n",
       "      <th>VIF</th>\n",
       "    </tr>\n",
       "  </thead>\n",
       "  <tbody>\n",
       "    <tr>\n",
       "      <th>const</th>\n",
       "      <td>50.351373</td>\n",
       "    </tr>\n",
       "    <tr>\n",
       "      <th>GameTime</th>\n",
       "      <td>1.665769</td>\n",
       "    </tr>\n",
       "    <tr>\n",
       "      <th>APM</th>\n",
       "      <td>1.661306</td>\n",
       "    </tr>\n",
       "    <tr>\n",
       "      <th>ElapsedTime</th>\n",
       "      <td>1.011681</td>\n",
       "    </tr>\n",
       "  </tbody>\n",
       "</table>\n",
       "</div>"
      ],
      "text/plain": [
       "                   VIF\n",
       "const        50.351373\n",
       "GameTime      1.665769\n",
       "APM           1.661306\n",
       "ElapsedTime   1.011681"
      ]
     },
     "metadata": {},
     "output_type": "display_data"
    }
   ],
   "source": [
    "endogs = results_aic.model.endog_names\n",
    "exogs = results_aic.model.exog_names.copy()\n",
    "exogs.remove('Intercept')\n",
    "print(exogs)  # debug\n",
    "X_c = sm.add_constant(X_all[exogs])\n",
    "vifs = calc_vifs(X_c, y)\n",
    "display(vifs)"
   ]
  },
  {
   "cell_type": "code",
   "execution_count": 22,
   "id": "fc73360d-caa7-4ad4-8c5f-0b4420c946c4",
   "metadata": {},
   "outputs": [
    {
     "name": "stdout",
     "output_type": "stream",
     "text": [
      "                                 OLS Regression Results                                \n",
      "=======================================================================================\n",
      "Dep. Variable:                      y   R-squared (uncentered):                   0.912\n",
      "Model:                            OLS   Adj. R-squared (uncentered):              0.911\n",
      "Method:                 Least Squares   F-statistic:                              965.0\n",
      "Date:                Wed, 04 Aug 2021   Prob (F-statistic):                   1.32e-146\n",
      "Time:                        15:04:09   Log-Likelihood:                         -56.625\n",
      "No. Observations:                 281   AIC:                                      119.2\n",
      "Df Residuals:                     278   BIC:                                      130.2\n",
      "Df Model:                           3                                                  \n",
      "Covariance Type:            nonrobust                                                  \n",
      "===============================================================================\n",
      "                  coef    std err          t      P>|t|      [0.025      0.975]\n",
      "-------------------------------------------------------------------------------\n",
      "GameTime        0.9063      0.023     39.557      0.000       0.861       0.951\n",
      "APM             0.0784      0.023      3.428      0.001       0.033       0.123\n",
      "ElapsedTime     0.0281      0.018      1.576      0.116      -0.007       0.063\n",
      "==============================================================================\n",
      "Omnibus:                       32.926   Durbin-Watson:                   2.042\n",
      "Prob(Omnibus):                  0.000   Jarque-Bera (JB):               54.284\n",
      "Skew:                          -0.692   Prob(JB):                     1.63e-12\n",
      "Kurtosis:                       4.649   Cond. No.                         2.12\n",
      "==============================================================================\n",
      "\n",
      "Notes:\n",
      "[1] R² is computed without centering (uncentered) since the model does not contain a constant.\n",
      "[2] Standard Errors assume that the covariance matrix of the errors is correctly specified.\n"
     ]
    }
   ],
   "source": [
    "X_final_scaled = dfX_scaled[exogs]\n",
    "model_final_scaled = sm.OLS(y_scaled, X_final_scaled)\n",
    "results_final_scaled = model_final_scaled.fit()\n",
    "print(results_final_scaled.summary())"
   ]
  },
  {
   "cell_type": "code",
   "execution_count": 23,
   "id": "4dd843b2-98cc-4b3c-a751-ed0d1f9c207e",
   "metadata": {},
   "outputs": [
    {
     "name": "stdout",
     "output_type": "stream",
     "text": [
      "GameTime       0.906335\n",
      "APM            0.078438\n",
      "ElapsedTime    0.028137\n",
      "dtype: float64\n"
     ]
    }
   ],
   "source": [
    "print(results_final_scaled.params)"
   ]
  },
  {
   "cell_type": "code",
   "execution_count": 24,
   "id": "937a759b-08bb-494b-9a41-e49878faad58",
   "metadata": {},
   "outputs": [
    {
     "name": "stdout",
     "output_type": "stream",
     "text": [
      "p-values (F-statistic) 1.3204822852938453e-146\n"
     ]
    }
   ],
   "source": [
    "print('p-values (F-statistic)', results_final_scaled.f_pvalue)"
   ]
  },
  {
   "cell_type": "code",
   "execution_count": 25,
   "id": "edd30dd1-fc88-40ed-aaff-6ca04d79ffab",
   "metadata": {},
   "outputs": [
    {
     "name": "stdout",
     "output_type": "stream",
     "text": [
      "                            OLS Regression Results                            \n",
      "==============================================================================\n",
      "Dep. Variable:               Position   R-squared:                       0.912\n",
      "Model:                            OLS   Adj. R-squared:                  0.911\n",
      "Method:                 Least Squares   F-statistic:                     961.6\n",
      "Date:                Wed, 04 Aug 2021   Prob (F-statistic):          4.45e-146\n",
      "Time:                        15:04:09   Log-Likelihood:                 368.46\n",
      "No. Observations:                 281   AIC:                            -728.9\n",
      "Df Residuals:                     277   BIC:                            -714.4\n",
      "Df Model:                           3                                         \n",
      "Covariance Type:            nonrobust                                         \n",
      "===============================================================================\n",
      "                  coef    std err          t      P>|t|      [0.025      0.975]\n",
      "-------------------------------------------------------------------------------\n",
      "const          -0.0547      0.028     -1.966      0.050      -0.109    7.53e-05\n",
      "GameTime        0.0051      0.000     39.486      0.000       0.005       0.005\n",
      "APM             0.0014      0.000      3.422      0.001       0.001       0.002\n",
      "ElapsedTime  7.422e-10   4.72e-10      1.573      0.117   -1.87e-10    1.67e-09\n",
      "==============================================================================\n",
      "Omnibus:                       32.926   Durbin-Watson:                   2.042\n",
      "Prob(Omnibus):                  0.000   Jarque-Bera (JB):               54.284\n",
      "Skew:                          -0.692   Prob(JB):                     1.63e-12\n",
      "Kurtosis:                       4.649   Cond. No.                     3.28e+08\n",
      "==============================================================================\n",
      "\n",
      "Notes:\n",
      "[1] Standard Errors assume that the covariance matrix of the errors is correctly specified.\n",
      "[2] The condition number is large, 3.28e+08. This might indicate that there are\n",
      "strong multicollinearity or other numerical problems.\n"
     ]
    }
   ],
   "source": [
    "X_final_c = sm.add_constant(X_all[exogs])\n",
    "model_final = sm.OLS(y, X_final_c)\n",
    "results_final = model_final.fit()\n",
    "print(results_final.summary())"
   ]
  },
  {
   "cell_type": "markdown",
   "id": "e5b1d8c6-3d15-46af-830c-295f0909b068",
   "metadata": {},
   "source": [
    "## 考察\n",
    "#### Player, GameTime, Lines, APM, Timeを説明変数として与えましたが、最終的には正の影響を与える列はGameTimeとAPMのみとなる結果となりました。これには2つの理由が考えられます。\n",
    "#### 1つ目の理由はAPMがが高いほど、ガービッジキューに貯まったガービッジを相殺できて生き残りやすくなったので、順位が高くなったからです。 \n",
    "#### 2つ目はそもそも、GameTimeが高いことは生き残った時間が長くなることなので、順位が高くなったからです。元にRankに対するGameTimeの影響度はAPMに対して圧倒的に高いです。\n",
    "#### よってこれらの結果より、テトリスで上位を目指したいのならAPMを高めて積極的に攻撃していく必要はなく、最低限のテトリミノの操作でもとにかく生き残れば周りの敵が他の敵を倒してくれるので、上位を取れることが考察できます。"
   ]
  },
  {
   "cell_type": "markdown",
   "id": "8e71df19-1dc6-4285-aa01-cc5d191c63ec",
   "metadata": {},
   "source": [
    "- - -\n",
    "# 解析5　KMeansクラスタリング\n",
    "APMを縦軸、順位を横軸に取り、KMeansクラスタリングをします"
   ]
  },
  {
   "cell_type": "code",
   "execution_count": 26,
   "id": "88a2384d-a6d6-4ef6-8b1e-d53719f214fe",
   "metadata": {},
   "outputs": [
    {
     "data": {
      "text/html": [
       "<div>\n",
       "<style scoped>\n",
       "    .dataframe tbody tr th:only-of-type {\n",
       "        vertical-align: middle;\n",
       "    }\n",
       "\n",
       "    .dataframe tbody tr th {\n",
       "        vertical-align: top;\n",
       "    }\n",
       "\n",
       "    .dataframe thead th {\n",
       "        text-align: right;\n",
       "    }\n",
       "</style>\n",
       "<table border=\"1\" class=\"dataframe\">\n",
       "  <thead>\n",
       "    <tr style=\"text-align: right;\">\n",
       "      <th></th>\n",
       "      <th>Position</th>\n",
       "      <th>APM</th>\n",
       "    </tr>\n",
       "  </thead>\n",
       "  <tbody>\n",
       "    <tr>\n",
       "      <th>26</th>\n",
       "      <td>0.975000</td>\n",
       "      <td>44.30</td>\n",
       "    </tr>\n",
       "    <tr>\n",
       "      <th>27</th>\n",
       "      <td>0.761905</td>\n",
       "      <td>43.97</td>\n",
       "    </tr>\n",
       "    <tr>\n",
       "      <th>28</th>\n",
       "      <td>0.891892</td>\n",
       "      <td>50.37</td>\n",
       "    </tr>\n",
       "    <tr>\n",
       "      <th>29</th>\n",
       "      <td>0.902439</td>\n",
       "      <td>38.88</td>\n",
       "    </tr>\n",
       "    <tr>\n",
       "      <th>94</th>\n",
       "      <td>0.400000</td>\n",
       "      <td>38.49</td>\n",
       "    </tr>\n",
       "  </tbody>\n",
       "</table>\n",
       "</div>"
      ],
      "text/plain": [
       "    Position    APM\n",
       "26  0.975000  44.30\n",
       "27  0.761905  43.97\n",
       "28  0.891892  50.37\n",
       "29  0.902439  38.88\n",
       "94  0.400000  38.49"
      ]
     },
     "metadata": {},
     "output_type": "display_data"
    }
   ],
   "source": [
    "X = df.loc[:, ['Position', 'APM']]\n",
    "display(X.head())"
   ]
  },
  {
   "cell_type": "code",
   "execution_count": 27,
   "id": "af67fe73-05e5-45d7-95bc-e7d1a3c4b9a9",
   "metadata": {},
   "outputs": [
    {
     "name": "stderr",
     "output_type": "stream",
     "text": [
      "C:\\Users\\INIAD\\Miniconda3\\envs\\cs2019_data\\lib\\site-packages\\sklearn\\cluster\\_kmeans.py:882: UserWarning: KMeans is known to have a memory leak on Windows with MKL, when there are less chunks than available threads. You can avoid it by setting the environment variable OMP_NUM_THREADS=2.\n",
      "  f\"KMeans is known to have a memory leak on Windows \"\n"
     ]
    },
    {
     "data": {
      "image/png": "[encoded data removed]",
      "text/plain": [
       "<Figure size 432x288 with 1 Axes>"
      ]
     },
     "metadata": {
      "image/png": {
       "height": 262,
       "width": 386
      },
      "needs_background": "light"
     },
     "output_type": "display_data"
    }
   ],
   "source": [
    "sc = StandardScaler()\n",
    "X_std = sc.fit_transform(X)\n",
    "\n",
    "distortions = []\n",
    "for i in range(1, 11):\n",
    "    km = KMeans(n_clusters=i)\n",
    "    km.fit(X_std)\n",
    "    distortions.append(km.inertia_)\n",
    "plt.plot(range(1, 11), distortions, marker='o')\n",
    "plt.xlabel('Number of clusters')\n",
    "plt.ylabel('Distortion')\n",
    "plt.show()"
   ]
  },
  {
   "cell_type": "code",
   "execution_count": 28,
   "id": "68829722-563c-46e2-b0f2-00f9671a1bde",
   "metadata": {},
   "outputs": [],
   "source": [
    "n_cls = 3\n",
    "km = KMeans(n_clusters=n_cls, random_state=0)\n",
    "cls = km.fit_predict(X_std)"
   ]
  },
  {
   "cell_type": "code",
   "execution_count": 29,
   "id": "5817b7fb-1640-437e-9e15-087a34a63252",
   "metadata": {},
   "outputs": [
    {
     "name": "stdout",
     "output_type": "stream",
     "text": [
      "[0 0 0 0 2 2 0 0 0 0 0 0 0 0 0 0 2 0 0 2 1 1 1 1 1 1 1 0 0 1 1 1 1 1 1 1 1\n",
      " 1 1 2 1 0 0 0 1 0 0 0 2 0 0 2 2 2 0 0 0 0 0 2 0 0 0 0 0 0 0 0 2 0 2 0 2 2\n",
      " 0 0 0 2 0 0 0 0 2 0 2 0 0 0 0 1 0 0 0 0 0 2 0 0 0 0 0 2 0 0 2 0 2 0 0 0 0\n",
      " 1 0 0 0 0 0 2 0 0 0 0 0 2 0 2 0 0 2 0 2 0 0 0 0 2 2 2 0 0 2 2 0 2 0 2 2 2\n",
      " 2 2 0 0 0 0 0 0 0 0 2 0 2 2 0 0 0 2 0 0 2 2 2 1 2 0 2 0 0 2 0 0 2 0 0 0 0\n",
      " 0 0 0 0 0 0 0 0 0 0 0 2 0 0 2 0 0 0 0 2 2 0 0 0 0 2 0 0 0 2 2 1 0 0 2 0 0\n",
      " 0 2 2 0 0 0 2 0 2 0 0 2 0 0 2 0 0 2 0 0 2 2 0 0 0 2 0 0 2 0 2 0 0 0 0 2 0\n",
      " 1 0 2 2 0 0 1 2 2 0 0 0 2 0 2 2 0 2 2 2 2 0]\n",
      "0    176\n",
      "2     80\n",
      "1     25\n",
      "dtype: int64\n"
     ]
    }
   ],
   "source": [
    "print(cls)\n",
    "print(pd.Series(cls).value_counts())"
   ]
  },
  {
   "cell_type": "code",
   "execution_count": 30,
   "id": "59620271-3d1e-4532-b02b-a53dcda3f1fe",
   "metadata": {},
   "outputs": [
    {
     "data": {
      "image/png": "[encoded data removed]",
      "text/plain": [
       "<Figure size 432x288 with 1 Axes>"
      ]
     },
     "metadata": {
      "image/png": {
       "height": 262,
       "width": 381
      },
      "needs_background": "light"
     },
     "output_type": "display_data"
    }
   ],
   "source": [
    "colors = ['green', 'blue', 'red']\n",
    "markers = ['s', 'o', 'v']\n",
    "for i in range(n_cls):\n",
    "    df_cls = X[ cls==i ]\n",
    "    plt.scatter(df_cls['Position'], df_cls['APM'],\n",
    "                c=colors[i], marker=markers[i],\n",
    "                label='cluster{}'.format(i))\n",
    "plt.xlabel('Position')\n",
    "plt.ylabel('APM')\n",
    "plt.legend()\n",
    "plt.show()"
   ]
  },
  {
   "cell_type": "code",
   "execution_count": 31,
   "id": "2737f9c9-f7da-4e3d-80d5-4e7c36263d5e",
   "metadata": {},
   "outputs": [
    {
     "data": {
      "text/html": [
       "<div>\n",
       "<style scoped>\n",
       "    .dataframe tbody tr th:only-of-type {\n",
       "        vertical-align: middle;\n",
       "    }\n",
       "\n",
       "    .dataframe tbody tr th {\n",
       "        vertical-align: top;\n",
       "    }\n",
       "\n",
       "    .dataframe thead th {\n",
       "        text-align: right;\n",
       "    }\n",
       "</style>\n",
       "<table border=\"1\" class=\"dataframe\">\n",
       "  <thead>\n",
       "    <tr style=\"text-align: right;\">\n",
       "      <th>cluster</th>\n",
       "      <th>0</th>\n",
       "      <th>1</th>\n",
       "      <th>2</th>\n",
       "    </tr>\n",
       "  </thead>\n",
       "  <tbody>\n",
       "    <tr>\n",
       "      <th>Position</th>\n",
       "      <td>0.91</td>\n",
       "      <td>0.25</td>\n",
       "      <td>0.66</td>\n",
       "    </tr>\n",
       "    <tr>\n",
       "      <th>APM</th>\n",
       "      <td>38.96</td>\n",
       "      <td>3.76</td>\n",
       "      <td>33.70</td>\n",
       "    </tr>\n",
       "  </tbody>\n",
       "</table>\n",
       "</div>"
      ],
      "text/plain": [
       "cluster       0     1      2\n",
       "Position   0.91  0.25   0.66\n",
       "APM       38.96  3.76  33.70"
      ]
     },
     "metadata": {},
     "output_type": "display_data"
    },
    {
     "data": {
      "text/html": [
       "<div>\n",
       "<style scoped>\n",
       "    .dataframe tbody tr th:only-of-type {\n",
       "        vertical-align: middle;\n",
       "    }\n",
       "\n",
       "    .dataframe tbody tr th {\n",
       "        vertical-align: top;\n",
       "    }\n",
       "\n",
       "    .dataframe thead th {\n",
       "        text-align: right;\n",
       "    }\n",
       "</style>\n",
       "<table border=\"1\" class=\"dataframe\">\n",
       "  <thead>\n",
       "    <tr style=\"text-align: right;\">\n",
       "      <th>cluster</th>\n",
       "      <th>0</th>\n",
       "      <th>1</th>\n",
       "      <th>2</th>\n",
       "    </tr>\n",
       "    <tr>\n",
       "      <th>RankIN</th>\n",
       "      <th></th>\n",
       "      <th></th>\n",
       "      <th></th>\n",
       "    </tr>\n",
       "  </thead>\n",
       "  <tbody>\n",
       "    <tr>\n",
       "      <th>False</th>\n",
       "      <td>3</td>\n",
       "      <td>25</td>\n",
       "      <td>52</td>\n",
       "    </tr>\n",
       "    <tr>\n",
       "      <th>True</th>\n",
       "      <td>173</td>\n",
       "      <td>0</td>\n",
       "      <td>28</td>\n",
       "    </tr>\n",
       "  </tbody>\n",
       "</table>\n",
       "</div>"
      ],
      "text/plain": [
       "cluster    0   1   2\n",
       "RankIN              \n",
       "False      3  25  52\n",
       "True     173   0  28"
      ]
     },
     "metadata": {},
     "output_type": "display_data"
    },
    {
     "data": {
      "text/html": [
       "<div>\n",
       "<style scoped>\n",
       "    .dataframe tbody tr th:only-of-type {\n",
       "        vertical-align: middle;\n",
       "    }\n",
       "\n",
       "    .dataframe tbody tr th {\n",
       "        vertical-align: top;\n",
       "    }\n",
       "\n",
       "    .dataframe thead th {\n",
       "        text-align: right;\n",
       "    }\n",
       "</style>\n",
       "<table border=\"1\" class=\"dataframe\">\n",
       "  <thead>\n",
       "    <tr style=\"text-align: right;\">\n",
       "      <th>cluster</th>\n",
       "      <th>0</th>\n",
       "      <th>1</th>\n",
       "      <th>2</th>\n",
       "    </tr>\n",
       "    <tr>\n",
       "      <th>TETO-1</th>\n",
       "      <th></th>\n",
       "      <th></th>\n",
       "      <th></th>\n",
       "    </tr>\n",
       "  </thead>\n",
       "  <tbody>\n",
       "    <tr>\n",
       "      <th>False</th>\n",
       "      <td>122</td>\n",
       "      <td>25</td>\n",
       "      <td>80</td>\n",
       "    </tr>\n",
       "    <tr>\n",
       "      <th>True</th>\n",
       "      <td>54</td>\n",
       "      <td>0</td>\n",
       "      <td>0</td>\n",
       "    </tr>\n",
       "  </tbody>\n",
       "</table>\n",
       "</div>"
      ],
      "text/plain": [
       "cluster    0   1   2\n",
       "TETO-1              \n",
       "False    122  25  80\n",
       "True      54   0   0"
      ]
     },
     "metadata": {},
     "output_type": "display_data"
    },
    {
     "name": "stdout",
     "output_type": "stream",
     "text": [
      "(20, 3)\n"
     ]
    }
   ],
   "source": [
    "X['cluster'] = cls\n",
    "display(X.groupby('cluster').mean().round(2).T)\n",
    "df_cross = pd.crosstab(df['RankIN'], X['cluster'])\n",
    "display(df_cross)\n",
    "df_cross = pd.crosstab(df['TETO-1'], X['cluster'])\n",
    "display(df_cross)\n",
    "print(X[X['APM'] == 0].shape)"
   ]
  },
  {
   "cell_type": "markdown",
   "id": "6461729e-e688-4516-aecb-36743bc47265",
   "metadata": {},
   "source": [
    "## 考察\n",
    "#### cluster0は順位が上位かつAPMも高い特徴を持つクラスタになりました。ほぼ全てのcluster0のデータがランクインしていて、約3割のデータでテトワンを取っています。\n",
    "#### cluster1は順位が低く、APMも低い特徴を持つクラスタになりました。cluster1のうち8割のデータのAPMが0です。ランクインしたデータもありません。\n",
    "#### cluster2は順位が中位かつAPMが高い特徴を持つクラスタになりました。テトワンだったデータは含まれていませんが、cluster2のデータのうち約1/3がランクインしています。"
   ]
  },
  {
   "cell_type": "markdown",
   "id": "8b64e702-48c0-491a-819a-660ea844b7d9",
   "metadata": {},
   "source": [
    "- - -\n",
    "# 解析6　SVMクラスタリング\n",
    "RankINを目的変数、APM, Positionを説明変数として、SVMクラスタリングします。"
   ]
  },
  {
   "cell_type": "code",
   "execution_count": 32,
   "id": "88d8834d-923c-4031-b796-b38d8c2f7b10",
   "metadata": {},
   "outputs": [],
   "source": [
    "X = df.loc[:, ['Position', 'APM']]\n",
    "y = df['RankIN']"
   ]
  },
  {
   "cell_type": "code",
   "execution_count": 33,
   "id": "409ade57-983a-437e-bf04-6680133847f1",
   "metadata": {},
   "outputs": [
    {
     "name": "stdout",
     "output_type": "stream",
     "text": [
      "The autoreload extension is already loaded. To reload it, use:\n",
      "  %reload_ext autoreload\n"
     ]
    }
   ],
   "source": [
    "my_libs_dir = '../'\n",
    "if not my_libs_dir in sys.path:\n",
    "    sys.path.append(my_libs_dir)  # add the path to my_lib directory \n",
    "\n",
    "# The following lines are needed to auto-reload my library file\n",
    "# Without these lines, my library file is read only once and\n",
    "# modifications of my library file are not reflected.\n",
    "%load_ext autoreload\n",
    "%autoreload 1\n",
    "%aimport my_libs.svm_tools\n",
    "# import from my library file\n",
    "from my_libs.svm_tools import plot_classification_results, plot_margin_and_sv"
   ]
  },
  {
   "cell_type": "code",
   "execution_count": 34,
   "id": "fd4377b4-4146-40f4-8454-566746550fca",
   "metadata": {},
   "outputs": [],
   "source": [
    "X_train, X_test, y_train, y_test = train_test_split(\n",
    "    X, y, test_size=0.3, random_state=0, stratify=y)"
   ]
  },
  {
   "cell_type": "code",
   "execution_count": 35,
   "id": "1685675d-4346-4c85-8928-ed1198688d22",
   "metadata": {},
   "outputs": [],
   "source": [
    "sc = MinMaxScaler(feature_range=(0, 1), copy=True)\n",
    "sc.fit(X_train)\n",
    "X_train_std = sc.transform(X_train)"
   ]
  },
  {
   "cell_type": "code",
   "execution_count": 36,
   "id": "fc978715-84e7-460a-8d46-e92f3135c460",
   "metadata": {},
   "outputs": [
    {
     "data": {
      "image/png": "[encoded data removed]",
      "text/plain": [
       "<Figure size 432x288 with 1 Axes>"
      ]
     },
     "metadata": {
      "image/png": {
       "height": 248,
       "width": 367
      },
      "needs_background": "light"
     },
     "output_type": "display_data"
    }
   ],
   "source": [
    "svc = SVC(kernel='rbf', C=100, gamma=0.1)\n",
    "svc.fit(X_train_std, y_train)\n",
    "\n",
    "plot_margin_and_sv(X.values, y.values, svc)\n",
    "plt.show()"
   ]
  },
  {
   "cell_type": "code",
   "execution_count": 37,
   "id": "3c2a323f-e40a-4f7b-908b-002d2a371268",
   "metadata": {},
   "outputs": [
    {
     "data": {
      "image/png": "[encoded data removed]",
      "text/plain": [
       "<Figure size 432x288 with 1 Axes>"
      ]
     },
     "metadata": {
      "image/png": {
       "height": 248,
       "width": 367
      },
      "needs_background": "light"
     },
     "output_type": "display_data"
    }
   ],
   "source": [
    "y_train_pred = svc.predict(X_train_std)\n",
    "X_test_std = sc.transform(X_test)\n",
    "y_test_pred = svc.predict(X_test_std)\n",
    "\n",
    "plot_margin_and_sv(X.values, y.values, svc)\n",
    "plt.show()"
   ]
  },
  {
   "cell_type": "code",
   "execution_count": 38,
   "id": "b8668152-a6d2-4619-85e9-7970ef1268a8",
   "metadata": {},
   "outputs": [
    {
     "data": {
      "text/html": [
       "<div>\n",
       "<style scoped>\n",
       "    .dataframe tbody tr th:only-of-type {\n",
       "        vertical-align: middle;\n",
       "    }\n",
       "\n",
       "    .dataframe tbody tr th {\n",
       "        vertical-align: top;\n",
       "    }\n",
       "\n",
       "    .dataframe thead th {\n",
       "        text-align: right;\n",
       "    }\n",
       "</style>\n",
       "<table border=\"1\" class=\"dataframe\">\n",
       "  <thead>\n",
       "    <tr style=\"text-align: right;\">\n",
       "      <th>col_0</th>\n",
       "      <th>False</th>\n",
       "      <th>True</th>\n",
       "    </tr>\n",
       "    <tr>\n",
       "      <th>RankIN</th>\n",
       "      <th></th>\n",
       "      <th></th>\n",
       "    </tr>\n",
       "  </thead>\n",
       "  <tbody>\n",
       "    <tr>\n",
       "      <th>False</th>\n",
       "      <td>22</td>\n",
       "      <td>2</td>\n",
       "    </tr>\n",
       "    <tr>\n",
       "      <th>True</th>\n",
       "      <td>1</td>\n",
       "      <td>60</td>\n",
       "    </tr>\n",
       "  </tbody>\n",
       "</table>\n",
       "</div>"
      ],
      "text/plain": [
       "col_0   False  True \n",
       "RankIN              \n",
       "False      22      2\n",
       "True        1     60"
      ]
     },
     "metadata": {},
     "output_type": "display_data"
    },
    {
     "name": "stdout",
     "output_type": "stream",
     "text": [
      "Precision： 0.967741935483871\n",
      "Recall： 0.9836065573770492\n",
      "Specificity： 0.9166666666666666\n",
      "False positive rate： 0.08333333333333333\n",
      "accuracy： 0.9647058823529412\n"
     ]
    }
   ],
   "source": [
    "ct_test = pd.crosstab(y_test, y_test_pred)\n",
    "display(ct_test)\n",
    "\n",
    "TP = ct_test.iloc[1, 1]\n",
    "TN = ct_test.iloc[0, 0]\n",
    "FP = ct_test.iloc[0, 1]\n",
    "FN = ct_test.iloc[1, 0]\n",
    "\n",
    "print(\"Precision：\", TP/(TP + FP))\n",
    "print(\"Recall：\", TP / (TP + FN))\n",
    "print(\"Specificity：\", TN / (TN + FP))\n",
    "print(\"False positive rate：\", FP / (FP + TN))\n",
    "print(\"accuracy：\", (TP + TN) / (TP + TN + FP + FN))"
   ]
  },
  {
   "cell_type": "markdown",
   "id": "ab84d481-996a-4f02-a617-8353a79844cb",
   "metadata": {},
   "source": [
    "- - -\n",
    "# 解析7　ランダムフォレストクラスタリング\n",
    "RankINを目的変数、APM, Positionを説明変数として、ランダムフォレストクラスタリングします。"
   ]
  },
  {
   "cell_type": "code",
   "execution_count": 39,
   "id": "62d8348c-d774-41e1-921d-c5e3216299a2",
   "metadata": {},
   "outputs": [],
   "source": [
    "X = df.loc[:, ['Position', 'APM']]\n",
    "y = df['RankIN']"
   ]
  },
  {
   "cell_type": "code",
   "execution_count": 40,
   "id": "a18dccd1-61ca-4a8d-aedf-2f4f37e2ecac",
   "metadata": {},
   "outputs": [
    {
     "data": {
      "text/plain": [
       "DecisionTreeClassifier(random_state=0)"
      ]
     },
     "execution_count": 40,
     "metadata": {},
     "output_type": "execute_result"
    }
   ],
   "source": [
    "dtree = DecisionTreeClassifier(random_state=0)\n",
    "dtree.fit(X, y)  "
   ]
  },
  {
   "cell_type": "code",
   "execution_count": 41,
   "id": "c03982d7-6af8-4f37-9369-8d32b36f74d5",
   "metadata": {},
   "outputs": [
    {
     "data": {
      "image/png": "[encoded data removed]",
      "text/plain": [
       "<Figure size 432x288 with 1 Axes>"
      ]
     },
     "metadata": {
      "image/png": {
       "height": 248,
       "width": 367
      },
      "needs_background": "light"
     },
     "output_type": "display_data"
    }
   ],
   "source": [
    "plot_classification_results(X.values, y.values, dtree)"
   ]
  },
  {
   "cell_type": "markdown",
   "id": "72a1c0fd-3267-49bf-ac6f-5dcbfa3ebbd7",
   "metadata": {},
   "source": [
    "## 考察\n",
    "#### 基本的にはpositionの値が約0.75のところに分離超平面を引いていることが分かりました  \n",
    "#### position > 約0.75に分類されたクラスタリング(青い領域)には飛び地が2つ存在することが分かりました。  "
   ]
  },
  {
   "cell_type": "markdown",
   "id": "e01d719c-b69c-4404-b349-bd8af0137fd3",
   "metadata": {},
   "source": [
    "- - -\n",
    "# 解析8 SVM回帰\n",
    "APMを縦軸、順位を横軸に取り、SVM回帰分析をします。"
   ]
  },
  {
   "cell_type": "code",
   "execution_count": 53,
   "id": "8dfc856d-9562-46be-8775-0a438c067fb2",
   "metadata": {},
   "outputs": [],
   "source": [
    "X = df[['Position']]\n",
    "y = df['APM']"
   ]
  },
  {
   "cell_type": "code",
   "execution_count": 54,
   "id": "884a3396-ad26-4e36-bd02-d305e52dd447",
   "metadata": {},
   "outputs": [],
   "source": [
    "X_train, X_test, y_train, y_test = train_test_split(X, y, test_size=0.3, random_state=0)"
   ]
  },
  {
   "cell_type": "code",
   "execution_count": 55,
   "id": "71daaa9a-6307-43b7-9b42-bec172806291",
   "metadata": {},
   "outputs": [],
   "source": [
    "sc = MinMaxScaler(feature_range=(0, 1), copy=True)\n",
    "sc.fit(X_train)\n",
    "X_train_std = sc.transform(X_train)"
   ]
  },
  {
   "cell_type": "code",
   "execution_count": 56,
   "id": "c9935291-d382-4f01-8148-51c99275cd52",
   "metadata": {},
   "outputs": [],
   "source": [
    "C = 100.0\n",
    "gamma = 'scale'\n",
    "epsilon = 0.2"
   ]
  },
  {
   "cell_type": "code",
   "execution_count": 57,
   "id": "01bf132a-0fcf-4aac-96d9-954fe6b7ea3b",
   "metadata": {},
   "outputs": [
    {
     "data": {
      "text/plain": [
       "SVR(C=100.0, epsilon=0.2)"
      ]
     },
     "execution_count": 57,
     "metadata": {},
     "output_type": "execute_result"
    }
   ],
   "source": [
    "svr = SVR(gamma=gamma, C=C, epsilon=epsilon)\n",
    "svr.fit(X_train_std, y_train)"
   ]
  },
  {
   "cell_type": "code",
   "execution_count": 58,
   "id": "9d06de1d-89ce-44fb-8eaf-6f3e258773e9",
   "metadata": {},
   "outputs": [],
   "source": [
    "y_train_pred = svr.predict(X_train_std)"
   ]
  },
  {
   "cell_type": "code",
   "execution_count": 59,
   "id": "00094635-3bd7-4694-af90-18cd66d07c38",
   "metadata": {},
   "outputs": [],
   "source": [
    "X_test_std = sc.transform(X_test)\n",
    "y_test_pred = svr.predict(X_test_std)"
   ]
  },
  {
   "cell_type": "code",
   "execution_count": 60,
   "id": "a38d84d5-30df-42df-82fc-72e1ec3cf9c6",
   "metadata": {},
   "outputs": [
    {
     "name": "stdout",
     "output_type": "stream",
     "text": [
      "MSE (train): 74.27071115077231\n",
      "MSE (test): 56.065659905869985\n"
     ]
    }
   ],
   "source": [
    "mse_train = mean_squared_error(y_train_pred, y_train)\n",
    "print('MSE (train):', mse_train)\n",
    "mse_test = mean_squared_error(y_test_pred, y_test)\n",
    "print('MSE (test):', mse_test)"
   ]
  },
  {
   "cell_type": "code",
   "execution_count": 63,
   "id": "8ce0dd12-f069-40b9-b382-dc1b07ba9ebd",
   "metadata": {},
   "outputs": [
    {
     "data": {
      "image/png": "[encoded data removed]",
      "text/plain": [
       "<Figure size 432x288 with 1 Axes>"
      ]
     },
     "metadata": {
      "image/png": {
       "height": 262,
       "width": 381
      },
      "needs_background": "light"
     },
     "output_type": "display_data"
    },
    {
     "data": {
      "image/png": "[encoded data removed]",
      "text/plain": [
       "<Figure size 432x288 with 1 Axes>"
      ]
     },
     "metadata": {
      "image/png": {
       "height": 262,
       "width": 381
      },
      "needs_background": "light"
     },
     "output_type": "display_data"
    }
   ],
   "source": [
    "plt.scatter(X_train_std, y_train_pred, label='train_pred')\n",
    "plt.scatter(X_train_std, y_train, label='train_true')\n",
    "plt.legend()\n",
    "plt.xlabel('Position')\n",
    "plt.ylabel('APM')\n",
    "plt.show()\n",
    "\n",
    "plt.scatter(X_test_std, y_test_pred, label='test_pred')\n",
    "plt.scatter(X_test_std, y_test, label='test_true')\n",
    "plt.legend()\n",
    "plt.xlabel('Position')\n",
    "plt.ylabel('APM')\n",
    "plt.show()"
   ]
  },
  {
   "cell_type": "code",
   "execution_count": 62,
   "id": "f1c1834b-8dd1-41d1-b93c-b14dcfc11a7b",
   "metadata": {},
   "outputs": [
    {
     "data": {
      "image/png": "[encoded data removed]",
      "text/plain": [
       "<Figure size 432x288 with 1 Axes>"
      ]
     },
     "metadata": {
      "image/png": {
       "height": 262,
       "width": 381
      },
      "needs_background": "light"
     },
     "output_type": "display_data"
    },
    {
     "data": {
      "image/png": "[encoded data removed]",
      "text/plain": [
       "<Figure size 432x288 with 1 Axes>"
      ]
     },
     "metadata": {
      "image/png": {
       "height": 262,
       "width": 382
      },
      "needs_background": "light"
     },
     "output_type": "display_data"
    }
   ],
   "source": [
    "plt.scatter(y_train_pred, y_train, label='train')\n",
    "xmin = np.array([y_train.min(), y_train.max()])\n",
    "xmax = np.array([y_train.min(), y_train.max()])\n",
    "plt.plot(xmin, xmax, label='y=x')\n",
    "plt.xlabel('Pred')\n",
    "plt.ylabel('True')\n",
    "plt.legend()\n",
    "plt.show()\n",
    "\n",
    "plt.scatter(y_test_pred, y_test, label='test')\n",
    "xmin = np.array([y_train_pred.min(), y_train_pred.max()])\n",
    "xmax = np.array([y_train_pred.min(), y_train_pred.max()])\n",
    "plt.plot(xmin, xmax, label='y=x')\n",
    "plt.xlabel('Pred')\n",
    "plt.ylabel('True')\n",
    "plt.legend()\n",
    "plt.show()"
   ]
  },
  {
   "cell_type": "markdown",
   "id": "8f97ca56-4232-43d5-a42a-663fd8d4855c",
   "metadata": {},
   "source": [
    "## 考察\n",
    "#### APMとPositionには正の相関がありそうです。"
   ]
  }
 ],
 "metadata": {
  "kernelspec": {
   "display_name": "Python 3",
   "language": "python",
   "name": "python3"
  },
  "language_info": {
   "codemirror_mode": {
    "name": "ipython",
    "version": 3
   },
   "file_extension": ".py",
   "mimetype": "text/x-python",
   "name": "python",
   "nbconvert_exporter": "python",
   "pygments_lexer": "ipython3",
   "version": "3.7.10"
  }
 },
 "nbformat": 4,
 "nbformat_minor": 5
}
