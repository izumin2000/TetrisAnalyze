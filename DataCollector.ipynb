{
 "cells": [
  {
   "cell_type": "markdown",
   "source": [
    "# JstrisのリプレイテーブルからCSVデータを作成するプログラム\n",
    "### (なんちゃってウェブスクレイピング) \n",
    "本当はbeautiful soupでウェブスクレイピングをする予定でしたが、今回データを使用するjstris.jezevec10.comのrobot.txt曰く、ウェブスクレイピングは禁止されているので、手動で取得する方法でリプレイデータを取得するとします。\n",
    "\n",
    "## 使い方\n",
    "1. https://jstris.jezevec10.com/u/いずみん にアクセスします。\n",
    "2. Ctrl + Aでテキストをすべてコピーします。\n",
    "3. CopyedText.csvに貼り付けします。(上書き)\n",
    "4. DataCollector.ipynbを実行します。\n",
    "5. replay.csvに追記されます。\n",
    "6. 1.の次のページにアクセスします。\n",
    "7. 2に戻ります。"
   ],
   "metadata": {}
  },
  {
   "cell_type": "code",
   "execution_count": 1,
   "source": [
    "import pandas as pd"
   ],
   "outputs": [],
   "metadata": {}
  },
  {
   "cell_type": "code",
   "execution_count": 13,
   "source": [
    "raw_df = pd.read_csv('CopyedText.csv', delimiter='\\s+', skiprows=18, header=0, skipfooter=1, engine=\"python\", encoding=\"utf_8\", index_col = False)\r\n",
    "replay_df = pd.read_csv('replay.csv', index_col = False)\r\n",
    "display(raw_df.head())\r\n",
    "#raw_df.to_csv(\"replay.csv\", index=False)\r\n",
    "\r\n",
    "ID1 = raw_df.iloc[-1][\"ID\"]\r\n",
    "ID2 = replay_df.iloc[-1][\"ID\"]\r\n",
    "\r\n",
    "\r\n",
    "if ID1 == ID2:\r\n",
    "    print(\"Duplicated\")\r\n",
    "else :\r\n",
    "    replay_df = pd.concat([replay_df, raw_df], ignore_index=True)\r\n",
    "    replay_df.to_csv(\"replay.csv\", index=False)\r\n",
    "    print(ID1, \"marged\")\r\n",
    "\r\n",
    "if ID1 == \"I6TPGZ\" :\r\n",
    "    print(\"end of replays data\")"
   ],
   "outputs": [
    {
     "output_type": "display_data",
     "data": {
      "text/plain": [
       "       ID  人数   順位    ゲームの時間  送ったライン合計    APM          日付     (JST) リプレイ\n",
       "0  XDI597   5  1/5     56.11        45  66.30  2021-05-03  01:06:24  ---\n",
       "1  G1RPPZ   5  3/5  1:07.240        42  54.43  2021-05-03  01:05:24  ---\n",
       "2  6IGOPY   5  4/5  2:01.040        53  39.66  2021-05-03  01:04:00  ---\n",
       "3  ZLNRTC   5  2/5  1:03.680        51  59.36  2021-05-03  01:01:31  ---\n",
       "4  JJE4LV   5  3/5     51.74        21  35.95  2021-05-03  01:00:23  ---"
      ],
      "text/html": [
       "<div>\n",
       "<style scoped>\n",
       "    .dataframe tbody tr th:only-of-type {\n",
       "        vertical-align: middle;\n",
       "    }\n",
       "\n",
       "    .dataframe tbody tr th {\n",
       "        vertical-align: top;\n",
       "    }\n",
       "\n",
       "    .dataframe thead th {\n",
       "        text-align: right;\n",
       "    }\n",
       "</style>\n",
       "<table border=\"1\" class=\"dataframe\">\n",
       "  <thead>\n",
       "    <tr style=\"text-align: right;\">\n",
       "      <th></th>\n",
       "      <th>ID</th>\n",
       "      <th>人数</th>\n",
       "      <th>順位</th>\n",
       "      <th>ゲームの時間</th>\n",
       "      <th>送ったライン合計</th>\n",
       "      <th>APM</th>\n",
       "      <th>日付</th>\n",
       "      <th>(JST)</th>\n",
       "      <th>リプレイ</th>\n",
       "    </tr>\n",
       "  </thead>\n",
       "  <tbody>\n",
       "    <tr>\n",
       "      <th>0</th>\n",
       "      <td>XDI597</td>\n",
       "      <td>5</td>\n",
       "      <td>1/5</td>\n",
       "      <td>56.11</td>\n",
       "      <td>45</td>\n",
       "      <td>66.30</td>\n",
       "      <td>2021-05-03</td>\n",
       "      <td>01:06:24</td>\n",
       "      <td>---</td>\n",
       "    </tr>\n",
       "    <tr>\n",
       "      <th>1</th>\n",
       "      <td>G1RPPZ</td>\n",
       "      <td>5</td>\n",
       "      <td>3/5</td>\n",
       "      <td>1:07.240</td>\n",
       "      <td>42</td>\n",
       "      <td>54.43</td>\n",
       "      <td>2021-05-03</td>\n",
       "      <td>01:05:24</td>\n",
       "      <td>---</td>\n",
       "    </tr>\n",
       "    <tr>\n",
       "      <th>2</th>\n",
       "      <td>6IGOPY</td>\n",
       "      <td>5</td>\n",
       "      <td>4/5</td>\n",
       "      <td>2:01.040</td>\n",
       "      <td>53</td>\n",
       "      <td>39.66</td>\n",
       "      <td>2021-05-03</td>\n",
       "      <td>01:04:00</td>\n",
       "      <td>---</td>\n",
       "    </tr>\n",
       "    <tr>\n",
       "      <th>3</th>\n",
       "      <td>ZLNRTC</td>\n",
       "      <td>5</td>\n",
       "      <td>2/5</td>\n",
       "      <td>1:03.680</td>\n",
       "      <td>51</td>\n",
       "      <td>59.36</td>\n",
       "      <td>2021-05-03</td>\n",
       "      <td>01:01:31</td>\n",
       "      <td>---</td>\n",
       "    </tr>\n",
       "    <tr>\n",
       "      <th>4</th>\n",
       "      <td>JJE4LV</td>\n",
       "      <td>5</td>\n",
       "      <td>3/5</td>\n",
       "      <td>51.74</td>\n",
       "      <td>21</td>\n",
       "      <td>35.95</td>\n",
       "      <td>2021-05-03</td>\n",
       "      <td>01:00:23</td>\n",
       "      <td>---</td>\n",
       "    </tr>\n",
       "  </tbody>\n",
       "</table>\n",
       "</div>"
      ]
     },
     "metadata": {}
    },
    {
     "output_type": "stream",
     "name": "stdout",
     "text": [
      "8G8ZPN marged\n"
     ]
    }
   ],
   "metadata": {}
  }
 ],
 "metadata": {
  "interpreter": {
   "hash": "dc07e7544d4a0ce4e550a97bb046d71ca124cebd9d56c2ec94a16467fdc0e822"
  },
  "kernelspec": {
   "name": "python3",
   "display_name": "Python 3.7.3 64-bit"
  },
  "language_info": {
   "codemirror_mode": {
    "name": "ipython",
    "version": 3
   },
   "file_extension": ".py",
   "mimetype": "text/x-python",
   "name": "python",
   "nbconvert_exporter": "python",
   "pygments_lexer": "ipython3",
   "version": "3.7.3"
  }
 },
 "nbformat": 4,
 "nbformat_minor": 5
}